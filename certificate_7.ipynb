{
 "cells": [
  {
   "cell_type": "code",
   "execution_count": 1,
   "id": "95bf8c20",
   "metadata": {
    "ExecuteTime": {
     "end_time": "2024-08-12T12:22:12.527809Z",
     "start_time": "2024-08-12T12:22:12.471969Z"
    }
   },
   "outputs": [],
   "source": [
    "import pickle\n",
    "import numpy as np\n",
    "import fun_dual as f"
   ]
  },
  {
   "cell_type": "markdown",
   "id": "b4b72833",
   "metadata": {},
   "source": [
    "# Print solution Y^(a,k)"
   ]
  },
  {
   "cell_type": "code",
   "execution_count": 2,
   "id": "401d646d",
   "metadata": {
    "ExecuteTime": {
     "end_time": "2024-08-12T12:22:15.056043Z",
     "start_time": "2024-08-12T12:22:12.530143Z"
    }
   },
   "outputs": [
    {
     "name": "stdout",
     "output_type": "stream",
     "text": [
      "Y^(0,0)=[[Fraction(124, 1) 0 0 0 Fraction(-9, 1) Fraction(-15, 1)\n",
      "  Fraction(-26, 1) Fraction(-43, 1)]\n",
      " [0 Fraction(115, 1) 0 0 0 0 0 0]\n",
      " [0 0 Fraction(22, 1) 0 0 0 0 0]\n",
      " [0 0 0 Fraction(3, 1) 0 0 0 0]\n",
      " [Fraction(-9, 1) 0 0 0 Fraction(1, 1) Fraction(1, 1) Fraction(2, 1)\n",
      "  Fraction(1, 1)]\n",
      " [Fraction(-15, 1) 0 0 0 Fraction(1, 1) Fraction(3, 1) Fraction(2, 1)\n",
      "  Fraction(2, 1)]\n",
      " [Fraction(-26, 1) 0 0 0 Fraction(2, 1) Fraction(2, 1) Fraction(7, 1)\n",
      "  Fraction(11, 1)]\n",
      " [Fraction(-43, 1) 0 0 0 Fraction(1, 1) Fraction(2, 1) Fraction(11, 1)\n",
      "  Fraction(43, 1)]]\n",
      "\n",
      "Y^(0,1)=[[Fraction(120, 1) 0 0 0 0 0]\n",
      " [0 Fraction(238, 1) 0 0 0 0]\n",
      " [0 0 Fraction(66, 1) 0 0 0]\n",
      " [0 0 0 Fraction(9, 1) Fraction(10, 1) Fraction(-10, 1)]\n",
      " [0 0 0 Fraction(10, 1) Fraction(15, 1) Fraction(3, 1)]\n",
      " [0 0 0 Fraction(-10, 1) Fraction(3, 1) Fraction(92, 1)]]\n",
      "\n",
      "Y^(0,2)=[[Fraction(140, 1) 0 0 0]\n",
      " [0 Fraction(274, 1) 0 0]\n",
      " [0 0 Fraction(91, 1) Fraction(24, 1)]\n",
      " [0 0 Fraction(24, 1) Fraction(330, 1)]]\n",
      "\n",
      "Y^(0,3)=[[Fraction(84, 1) 0]\n",
      " [0 Fraction(12, 1)]]\n",
      "\n",
      "Y^(1,1)=[[Fraction(120, 1) 0 0 0 0 0 0]\n",
      " [0 Fraction(120, 1) 0 0 0 0 0]\n",
      " [0 0 Fraction(63, 1) 0 0 0 0]\n",
      " [0 0 0 Fraction(11, 1) Fraction(4, 1) Fraction(-5, 1) Fraction(5, 1)]\n",
      " [0 0 0 Fraction(4, 1) Fraction(7, 1) Fraction(4, 1) Fraction(-8, 1)]\n",
      " [0 0 0 Fraction(-5, 1) Fraction(4, 1) Fraction(29, 1) Fraction(56, 1)]\n",
      " [0 0 0 Fraction(5, 1) Fraction(-8, 1) Fraction(56, 1) Fraction(269, 1)]]\n",
      "\n",
      "Y^(1,2)=[[Fraction(117, 1) 0 0 0 0]\n",
      " [0 Fraction(291, 1) 0 0 0]\n",
      " [0 0 Fraction(130, 1) Fraction(56, 1) Fraction(285, 1)]\n",
      " [0 0 Fraction(56, 1) Fraction(419, 1) Fraction(325, 1)]\n",
      " [0 0 Fraction(285, 1) Fraction(325, 1) Fraction(831, 1)]]\n",
      "\n",
      "Y^(1,3)=[[Fraction(126, 1) 0 0]\n",
      " [0 Fraction(405, 4) Fraction(207, 1)]\n",
      " [0 Fraction(207, 1) Fraction(470, 1)]]\n",
      "\n",
      "Y^(1,4)=[[Fraction(93, 2)]]\n",
      "\n",
      "Y^(2,2)=[[Fraction(114, 1) 0 0 0 0 0]\n",
      " [0 Fraction(109, 1) 0 0 0 0]\n",
      " [0 0 Fraction(53, 1) Fraction(26, 1) Fraction(85, 1) Fraction(20, 1)]\n",
      " [0 0 Fraction(26, 1) Fraction(108, 1) Fraction(-69, 1) Fraction(123, 1)]\n",
      " [0 0 Fraction(85, 1) Fraction(-69, 1) Fraction(352, 1) Fraction(147, 1)]\n",
      " [0 0 Fraction(20, 1) Fraction(123, 1) Fraction(147, 1) Fraction(937, 1)]]\n",
      "\n",
      "Y^(2,3)=[[Fraction(140, 1) 0 0 0]\n",
      " [0 Fraction(127, 1) Fraction(65, 1) Fraction(125, 3)]\n",
      " [0 Fraction(65, 1) Fraction(57, 1) Fraction(46, 1)]\n",
      " [0 Fraction(125, 3) Fraction(46, 1) Fraction(81, 1)]]\n",
      "\n",
      "Y^(2,4)=[[Fraction(18, 1) Fraction(-29, 1)]\n",
      " [Fraction(-29, 1) Fraction(56, 1)]]\n",
      "\n",
      "Y^(3,3)=[[Fraction(107, 1) 0 0 0 0]\n",
      " [0 Fraction(24, 1) Fraction(-3, 1) Fraction(125, 4) Fraction(70, 1)]\n",
      " [0 Fraction(-3, 1) Fraction(71, 1) Fraction(98, 1) Fraction(13, 1)]\n",
      " [0 Fraction(125, 4) Fraction(98, 1) Fraction(224, 1) Fraction(149, 1)]\n",
      " [0 Fraction(70, 1) Fraction(13, 1) Fraction(149, 1) Fraction(246, 1)]]\n",
      "\n",
      "Y^(3,4)=[[Fraction(99, 1) Fraction(45, 2) Fraction(70, 1)]\n",
      " [Fraction(45, 2) Fraction(263, 4) Fraction(-60, 1)]\n",
      " [Fraction(70, 1) Fraction(-60, 1) Fraction(158, 1)]]\n",
      "\n",
      "Y^(3,5)=[[Fraction(39, 2)]]\n",
      "\n",
      "Y^(4,4)=[[Fraction(106, 1) Fraction(10, 1) Fraction(-290, 3) 0]\n",
      " [Fraction(10, 1) Fraction(16187991, 644740) Fraction(-44, 1)\n",
      "  Fraction(38, 1)]\n",
      " [Fraction(-290, 3) Fraction(-44, 1) Fraction(6623, 36) Fraction(-82, 1)]\n",
      " [0 Fraction(38, 1) Fraction(-82, 1) Fraction(88, 1)]]\n",
      "\n",
      "Y^(4,5)=[[Fraction(25998073, 322370) Fraction(44, 1)]\n",
      " [Fraction(44, 1) Fraction(379, 12)]]\n",
      "\n",
      "Y^(5,5)=[[Fraction(21984965, 392883) Fraction(-78, 5) Fraction(-186, 5)]\n",
      " [Fraction(-78, 5) Fraction(1061, 80) Fraction(93, 5)]\n",
      " [Fraction(-186, 5) Fraction(93, 5) Fraction(34838427, 857647)]]\n",
      "\n",
      "Y^(5,6)=[[Fraction(907, 8)]]\n",
      "\n",
      "Y^(6,6)=[[Fraction(289, 5) Fraction(-548, 5)]\n",
      " [Fraction(-548, 5) Fraction(164534807, 670060)]]\n",
      "\n",
      "Y^(7,7)=[[Fraction(3813979, 522046)]]\n",
      "\n"
     ]
    }
   ],
   "source": [
    "n,d=7,4\n",
    "\n",
    "with open(\"inf_cert_7\", 'rb') as inf_cert:\n",
    "    Y=pickle.load(inf_cert)\n",
    "\n",
    "y=f.yijtp_fun(Y,n)\n",
    "\n",
    "f4,_=f.f4_fun(n)\n",
    "\n",
    "f2M,_=f.f2M_fun(n)\n",
    "\n",
    "for a in range(n+1):\n",
    "    for k in range(a,int((n+a)/2)+1):\n",
    "        \n",
    "        print(\"Y^(%s,%s)=%s\\n\" % (a,k,Y[f2M[a,k]]))"
   ]
  },
  {
   "cell_type": "markdown",
   "id": "2aea2d8c",
   "metadata": {},
   "source": [
    "# Objective value"
   ]
  },
  {
   "cell_type": "code",
   "execution_count": 3,
   "id": "7359c210",
   "metadata": {
    "ExecuteTime": {
     "end_time": "2024-08-12T12:22:15.059884Z",
     "start_time": "2024-08-12T12:22:15.056830Z"
    }
   },
   "outputs": [
    {
     "name": "stdout",
     "output_type": "stream",
     "text": [
      "obj_val=0.5809523809523824\n"
     ]
    }
   ],
   "source": [
    "c = 2*y[f4[(n, 0, 0, 0)]]/f.gamma(n, 0, 0, 0, n) + y[f4[n, n, n, n]]/f.gamma(n, n, n, n, n)\n",
    "\n",
    "obj_val = -y[f4[0, 0, 0, 0]]/f.gamma(0, 0, 0, 0, n) - (2**n-1)*c\n",
    "\n",
    "print(\"obj_val=%s\" % obj_val)"
   ]
  },
  {
   "cell_type": "code",
   "execution_count": 4,
   "id": "b4a5af13-6040-44ed-ab61-2d3f20def8ad",
   "metadata": {},
   "outputs": [
    {
     "name": "stdout",
     "output_type": "stream",
     "text": [
      "obj_val=0.5809523809523824\n"
     ]
    }
   ],
   "source": [
    "w = -(2*y[f4[(n, 0, 0, 0)]] + y[f4[n, n, n, n]])/f.gamma(n, 0, 0, 0, n)\n",
    "\n",
    "obj_val = (2**n-1)*w -y[f4[0, 0, 0, 0]]\n",
    "\n",
    "print(\"obj_val=%s\" % obj_val)"
   ]
  },
  {
   "cell_type": "markdown",
   "id": "89d3c213",
   "metadata": {},
   "source": [
    "# Lovasz constraints"
   ]
  },
  {
   "cell_type": "code",
   "execution_count": 7,
   "id": "b24985be",
   "metadata": {
    "ExecuteTime": {
     "end_time": "2024-08-12T12:22:15.297164Z",
     "start_time": "2024-08-12T12:22:15.060800Z"
    }
   },
   "outputs": [
    {
     "name": "stdout",
     "output_type": "stream",
     "text": [
      "Zero constraints = 4.3797854232252575e-11\n",
      "Other constraints = 3.3306690738754696e-16\n",
      "Other constraints = 9.094947017729282e-13\n"
     ]
    }
   ],
   "source": [
    "\n",
    "const = []\n",
    "\n",
    "for i, j, t, p in f4.keys():\n",
    "    if not ((t - p) % 2) == 1 and (i + j - t - p) >= d and not j == 0 and not i==0:\n",
    "        zero = y[f4[i, j, t, p]]\n",
    "        const.append(abs(zero))\n",
    "\n",
    "print(\"Zero constraints = %s\" % max(const))\n",
    "\n",
    "const = []\n",
    "\n",
    "for i in range(d, n + 1):\n",
    "    zero = 2*y[f4[i, 0, 0, 0]] / f.gamma(i, 0, 0, 0, n) + y[f4[i, i, i, i]] / f.gamma(i, i, i, i, n) - c\n",
    "    const.append(abs(zero))\n",
    "\n",
    "print(\"Other constraints = %s\" % max(const))\n",
    "\n",
    "\n",
    "const = []\n",
    "\n",
    "for i in range(d, n + 1):\n",
    "    zero = 2*y[f4[i, 0, 0, 0]] + y[f4[i, i, i, i]]+ w*f.gamma(i, 0, 0, 0, n)\n",
    "    const.append(abs(zero))\n",
    "\n",
    "print(\"Other constraints = %s\" % max(const))\n"
   ]
  },
  {
   "cell_type": "markdown",
   "id": "320fa465",
   "metadata": {},
   "source": [
    "# Minimal eigenvalue"
   ]
  },
  {
   "cell_type": "code",
   "execution_count": 6,
   "id": "dd98ff90",
   "metadata": {
    "ExecuteTime": {
     "end_time": "2024-08-12T12:22:15.451483Z",
     "start_time": "2024-08-12T12:22:15.297742Z"
    }
   },
   "outputs": [
    {
     "name": "stdout",
     "output_type": "stream",
     "text": [
      "Min eigenvalue = 0.013155884803915668\n"
     ]
    }
   ],
   "source": [
    "ref = np.infty\n",
    "for i in range(len(Y)):\n",
    "    min_eig = min(np.linalg.eigvals(Y[i].astype('float')))\n",
    "    if ref >= min_eig:\n",
    "        ref = min_eig\n",
    "\n",
    "print(\"Min eigenvalue = %s\" % ref)"
   ]
  }
 ],
 "metadata": {
  "kernelspec": {
   "display_name": "Python 3 (ipykernel)",
   "language": "python",
   "name": "python3"
  },
  "language_info": {
   "codemirror_mode": {
    "name": "ipython",
    "version": 3
   },
   "file_extension": ".py",
   "mimetype": "text/x-python",
   "name": "python",
   "nbconvert_exporter": "python",
   "pygments_lexer": "ipython3",
   "version": "3.12.2"
  }
 },
 "nbformat": 4,
 "nbformat_minor": 5
}
