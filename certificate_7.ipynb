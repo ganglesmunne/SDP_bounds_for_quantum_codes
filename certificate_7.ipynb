{
 "cells": [
  {
   "cell_type": "code",
   "execution_count": 25,
   "id": "95bf8c20",
   "metadata": {
    "ExecuteTime": {
     "end_time": "2024-08-19T13:04:30.510793Z",
     "start_time": "2024-08-19T13:04:30.502817Z"
    }
   },
   "outputs": [],
   "source": [
    "import pickle\n",
    "import numpy as np\n",
    "import fun_dual as f\n",
    "from sympy import Matrix\n",
    "from IPython.display import display"
   ]
  },
  {
   "cell_type": "markdown",
   "id": "b4b72833",
   "metadata": {},
   "source": [
    "# Print solution $Y^{(a,k)}$ of the SDP from Eq. (148)"
   ]
  },
  {
   "cell_type": "code",
   "execution_count": 26,
   "id": "401d646d",
   "metadata": {
    "ExecuteTime": {
     "end_time": "2024-08-19T13:04:32.950485Z",
     "start_time": "2024-08-19T13:04:30.594638Z"
    }
   },
   "outputs": [
    {
     "name": "stdout",
     "output_type": "stream",
     "text": [
      "Y^(0,0)=\n"
     ]
    },
    {
     "data": {
      "text/plain": "Matrix([\n[124,   0,  0, 0, -9, -15, -26, -43],\n[  0, 115,  0, 0,  0,   0,   0,   0],\n[  0,   0, 22, 0,  0,   0,   0,   0],\n[  0,   0,  0, 3,  0,   0,   0,   0],\n[ -9,   0,  0, 0,  1,   1,   2,   1],\n[-15,   0,  0, 0,  1,   3,   2,   2],\n[-26,   0,  0, 0,  2,   2,   7,  11],\n[-43,   0,  0, 0,  1,   2,  11,  43]])",
      "text/latex": "$\\displaystyle \\left[\\begin{matrix}124 & 0 & 0 & 0 & -9 & -15 & -26 & -43\\\\0 & 115 & 0 & 0 & 0 & 0 & 0 & 0\\\\0 & 0 & 22 & 0 & 0 & 0 & 0 & 0\\\\0 & 0 & 0 & 3 & 0 & 0 & 0 & 0\\\\-9 & 0 & 0 & 0 & 1 & 1 & 2 & 1\\\\-15 & 0 & 0 & 0 & 1 & 3 & 2 & 2\\\\-26 & 0 & 0 & 0 & 2 & 2 & 7 & 11\\\\-43 & 0 & 0 & 0 & 1 & 2 & 11 & 43\\end{matrix}\\right]$"
     },
     "metadata": {},
     "output_type": "display_data"
    },
    {
     "name": "stdout",
     "output_type": "stream",
     "text": [
      "Y^(0,1)=\n"
     ]
    },
    {
     "data": {
      "text/plain": "Matrix([\n[120,   0,  0,   0,  0,   0],\n[  0, 238,  0,   0,  0,   0],\n[  0,   0, 66,   0,  0,   0],\n[  0,   0,  0,   9, 10, -10],\n[  0,   0,  0,  10, 15,   3],\n[  0,   0,  0, -10,  3,  92]])",
      "text/latex": "$\\displaystyle \\left[\\begin{matrix}120 & 0 & 0 & 0 & 0 & 0\\\\0 & 238 & 0 & 0 & 0 & 0\\\\0 & 0 & 66 & 0 & 0 & 0\\\\0 & 0 & 0 & 9 & 10 & -10\\\\0 & 0 & 0 & 10 & 15 & 3\\\\0 & 0 & 0 & -10 & 3 & 92\\end{matrix}\\right]$"
     },
     "metadata": {},
     "output_type": "display_data"
    },
    {
     "name": "stdout",
     "output_type": "stream",
     "text": [
      "Y^(0,2)=\n"
     ]
    },
    {
     "data": {
      "text/plain": "Matrix([\n[140,   0,  0,   0],\n[  0, 274,  0,   0],\n[  0,   0, 91,  24],\n[  0,   0, 24, 330]])",
      "text/latex": "$\\displaystyle \\left[\\begin{matrix}140 & 0 & 0 & 0\\\\0 & 274 & 0 & 0\\\\0 & 0 & 91 & 24\\\\0 & 0 & 24 & 330\\end{matrix}\\right]$"
     },
     "metadata": {},
     "output_type": "display_data"
    },
    {
     "name": "stdout",
     "output_type": "stream",
     "text": [
      "Y^(0,3)=\n"
     ]
    },
    {
     "data": {
      "text/plain": "Matrix([\n[84,  0],\n[ 0, 12]])",
      "text/latex": "$\\displaystyle \\left[\\begin{matrix}84 & 0\\\\0 & 12\\end{matrix}\\right]$"
     },
     "metadata": {},
     "output_type": "display_data"
    },
    {
     "name": "stdout",
     "output_type": "stream",
     "text": [
      "Y^(1,1)=\n"
     ]
    },
    {
     "data": {
      "text/plain": "Matrix([\n[120,   0,  0,  0,  0,  0,   0],\n[  0, 120,  0,  0,  0,  0,   0],\n[  0,   0, 63,  0,  0,  0,   0],\n[  0,   0,  0, 11,  4, -5,   5],\n[  0,   0,  0,  4,  7,  4,  -8],\n[  0,   0,  0, -5,  4, 29,  56],\n[  0,   0,  0,  5, -8, 56, 269]])",
      "text/latex": "$\\displaystyle \\left[\\begin{matrix}120 & 0 & 0 & 0 & 0 & 0 & 0\\\\0 & 120 & 0 & 0 & 0 & 0 & 0\\\\0 & 0 & 63 & 0 & 0 & 0 & 0\\\\0 & 0 & 0 & 11 & 4 & -5 & 5\\\\0 & 0 & 0 & 4 & 7 & 4 & -8\\\\0 & 0 & 0 & -5 & 4 & 29 & 56\\\\0 & 0 & 0 & 5 & -8 & 56 & 269\\end{matrix}\\right]$"
     },
     "metadata": {},
     "output_type": "display_data"
    },
    {
     "name": "stdout",
     "output_type": "stream",
     "text": [
      "Y^(1,2)=\n"
     ]
    },
    {
     "data": {
      "text/plain": "Matrix([\n[117,   0,   0,   0,   0],\n[  0, 291,   0,   0,   0],\n[  0,   0, 130,  56, 285],\n[  0,   0,  56, 419, 325],\n[  0,   0, 285, 325, 831]])",
      "text/latex": "$\\displaystyle \\left[\\begin{matrix}117 & 0 & 0 & 0 & 0\\\\0 & 291 & 0 & 0 & 0\\\\0 & 0 & 130 & 56 & 285\\\\0 & 0 & 56 & 419 & 325\\\\0 & 0 & 285 & 325 & 831\\end{matrix}\\right]$"
     },
     "metadata": {},
     "output_type": "display_data"
    },
    {
     "name": "stdout",
     "output_type": "stream",
     "text": [
      "Y^(1,3)=\n"
     ]
    },
    {
     "data": {
      "text/plain": "Matrix([\n[126,     0,   0],\n[  0, 405/4, 207],\n[  0,   207, 470]])",
      "text/latex": "$\\displaystyle \\left[\\begin{matrix}126 & 0 & 0\\\\0 & \\frac{405}{4} & 207\\\\0 & 207 & 470\\end{matrix}\\right]$"
     },
     "metadata": {},
     "output_type": "display_data"
    },
    {
     "name": "stdout",
     "output_type": "stream",
     "text": [
      "Y^(1,4)=\n"
     ]
    },
    {
     "data": {
      "text/plain": "Matrix([[93/2]])",
      "text/latex": "$\\displaystyle \\left[\\begin{matrix}\\frac{93}{2}\\end{matrix}\\right]$"
     },
     "metadata": {},
     "output_type": "display_data"
    },
    {
     "name": "stdout",
     "output_type": "stream",
     "text": [
      "Y^(2,2)=\n"
     ]
    },
    {
     "data": {
      "text/plain": "Matrix([\n[114,   0,  0,   0,   0,   0],\n[  0, 109,  0,   0,   0,   0],\n[  0,   0, 53,  26,  85,  20],\n[  0,   0, 26, 108, -69, 123],\n[  0,   0, 85, -69, 352, 147],\n[  0,   0, 20, 123, 147, 937]])",
      "text/latex": "$\\displaystyle \\left[\\begin{matrix}114 & 0 & 0 & 0 & 0 & 0\\\\0 & 109 & 0 & 0 & 0 & 0\\\\0 & 0 & 53 & 26 & 85 & 20\\\\0 & 0 & 26 & 108 & -69 & 123\\\\0 & 0 & 85 & -69 & 352 & 147\\\\0 & 0 & 20 & 123 & 147 & 937\\end{matrix}\\right]$"
     },
     "metadata": {},
     "output_type": "display_data"
    },
    {
     "name": "stdout",
     "output_type": "stream",
     "text": [
      "Y^(2,3)=\n"
     ]
    },
    {
     "data": {
      "text/plain": "Matrix([\n[140,     0,  0,     0],\n[  0,   127, 65, 125/3],\n[  0,    65, 57,    46],\n[  0, 125/3, 46,    81]])",
      "text/latex": "$\\displaystyle \\left[\\begin{matrix}140 & 0 & 0 & 0\\\\0 & 127 & 65 & \\frac{125}{3}\\\\0 & 65 & 57 & 46\\\\0 & \\frac{125}{3} & 46 & 81\\end{matrix}\\right]$"
     },
     "metadata": {},
     "output_type": "display_data"
    },
    {
     "name": "stdout",
     "output_type": "stream",
     "text": [
      "Y^(2,4)=\n"
     ]
    },
    {
     "data": {
      "text/plain": "Matrix([\n[ 18, -29],\n[-29,  56]])",
      "text/latex": "$\\displaystyle \\left[\\begin{matrix}18 & -29\\\\-29 & 56\\end{matrix}\\right]$"
     },
     "metadata": {},
     "output_type": "display_data"
    },
    {
     "name": "stdout",
     "output_type": "stream",
     "text": [
      "Y^(3,3)=\n"
     ]
    },
    {
     "data": {
      "text/plain": "Matrix([\n[107,     0,  0,     0,   0],\n[  0,    24, -3, 125/4,  70],\n[  0,    -3, 71,    98,  13],\n[  0, 125/4, 98,   224, 149],\n[  0,    70, 13,   149, 246]])",
      "text/latex": "$\\displaystyle \\left[\\begin{matrix}107 & 0 & 0 & 0 & 0\\\\0 & 24 & -3 & \\frac{125}{4} & 70\\\\0 & -3 & 71 & 98 & 13\\\\0 & \\frac{125}{4} & 98 & 224 & 149\\\\0 & 70 & 13 & 149 & 246\\end{matrix}\\right]$"
     },
     "metadata": {},
     "output_type": "display_data"
    },
    {
     "name": "stdout",
     "output_type": "stream",
     "text": [
      "Y^(3,4)=\n"
     ]
    },
    {
     "data": {
      "text/plain": "Matrix([\n[  99,  45/2,  70],\n[45/2, 263/4, -60],\n[  70,   -60, 158]])",
      "text/latex": "$\\displaystyle \\left[\\begin{matrix}99 & \\frac{45}{2} & 70\\\\\\frac{45}{2} & \\frac{263}{4} & -60\\\\70 & -60 & 158\\end{matrix}\\right]$"
     },
     "metadata": {},
     "output_type": "display_data"
    },
    {
     "name": "stdout",
     "output_type": "stream",
     "text": [
      "Y^(3,5)=\n"
     ]
    },
    {
     "data": {
      "text/plain": "Matrix([[39/2]])",
      "text/latex": "$\\displaystyle \\left[\\begin{matrix}\\frac{39}{2}\\end{matrix}\\right]$"
     },
     "metadata": {},
     "output_type": "display_data"
    },
    {
     "name": "stdout",
     "output_type": "stream",
     "text": [
      "Y^(4,4)=\n"
     ]
    },
    {
     "data": {
      "text/plain": "Matrix([\n[   106,              10,  -290/3,   0],\n[    10, 16187991/644740,     -44,  38],\n[-290/3,             -44, 6623/36, -82],\n[     0,              38,     -82,  88]])",
      "text/latex": "$\\displaystyle \\left[\\begin{matrix}106 & 10 & - \\frac{290}{3} & 0\\\\10 & \\frac{16187991}{644740} & -44 & 38\\\\- \\frac{290}{3} & -44 & \\frac{6623}{36} & -82\\\\0 & 38 & -82 & 88\\end{matrix}\\right]$"
     },
     "metadata": {},
     "output_type": "display_data"
    },
    {
     "name": "stdout",
     "output_type": "stream",
     "text": [
      "Y^(4,5)=\n"
     ]
    },
    {
     "data": {
      "text/plain": "Matrix([\n[25998073/322370,     44],\n[             44, 379/12]])",
      "text/latex": "$\\displaystyle \\left[\\begin{matrix}\\frac{25998073}{322370} & 44\\\\44 & \\frac{379}{12}\\end{matrix}\\right]$"
     },
     "metadata": {},
     "output_type": "display_data"
    },
    {
     "name": "stdout",
     "output_type": "stream",
     "text": [
      "Y^(5,5)=\n"
     ]
    },
    {
     "data": {
      "text/plain": "Matrix([\n[21984965/392883,   -78/5,          -186/5],\n[          -78/5, 1061/80,            93/5],\n[         -186/5,    93/5, 34838427/857647]])",
      "text/latex": "$\\displaystyle \\left[\\begin{matrix}\\frac{21984965}{392883} & - \\frac{78}{5} & - \\frac{186}{5}\\\\- \\frac{78}{5} & \\frac{1061}{80} & \\frac{93}{5}\\\\- \\frac{186}{5} & \\frac{93}{5} & \\frac{34838427}{857647}\\end{matrix}\\right]$"
     },
     "metadata": {},
     "output_type": "display_data"
    },
    {
     "name": "stdout",
     "output_type": "stream",
     "text": [
      "Y^(5,6)=\n"
     ]
    },
    {
     "data": {
      "text/plain": "Matrix([[907/8]])",
      "text/latex": "$\\displaystyle \\left[\\begin{matrix}\\frac{907}{8}\\end{matrix}\\right]$"
     },
     "metadata": {},
     "output_type": "display_data"
    },
    {
     "name": "stdout",
     "output_type": "stream",
     "text": [
      "Y^(6,6)=\n"
     ]
    },
    {
     "data": {
      "text/plain": "Matrix([\n[ 289/5,           -548/5],\n[-548/5, 164534807/670060]])",
      "text/latex": "$\\displaystyle \\left[\\begin{matrix}\\frac{289}{5} & - \\frac{548}{5}\\\\- \\frac{548}{5} & \\frac{164534807}{670060}\\end{matrix}\\right]$"
     },
     "metadata": {},
     "output_type": "display_data"
    },
    {
     "name": "stdout",
     "output_type": "stream",
     "text": [
      "Y^(7,7)=\n"
     ]
    },
    {
     "data": {
      "text/plain": "Matrix([[3813979/522046]])",
      "text/latex": "$\\displaystyle \\left[\\begin{matrix}\\frac{3813979}{522046}\\end{matrix}\\right]$"
     },
     "metadata": {},
     "output_type": "display_data"
    }
   ],
   "source": [
    "n,d=7,4\n",
    "\n",
    "with open(\"inf_cert_7\", 'rb') as inf_cert:\n",
    "    Y=pickle.load(inf_cert)\n",
    "\n",
    "y=f.yijtp_fun(Y,n)\n",
    "\n",
    "f4,_=f.f4_fun(n)\n",
    "\n",
    "f2M,_=f.f2M_fun(n)\n",
    "\n",
    "for a in range(n+1):\n",
    "    for k in range(a,int((n+a)/2)+1):\n",
    "        print(\"Y^(%s,%s)=\" % (a,k))\n",
    "        display(Matrix((Y[f2M[a,k]])))\n",
    "\n"
   ]
  },
  {
   "cell_type": "markdown",
   "id": "2aea2d8c",
   "metadata": {},
   "source": [
    "# Objective value"
   ]
  },
  {
   "cell_type": "code",
   "execution_count": 27,
   "id": "b4a5af13-6040-44ed-ab61-2d3f20def8ad",
   "metadata": {
    "ExecuteTime": {
     "end_time": "2024-08-19T13:04:32.957326Z",
     "start_time": "2024-08-19T13:04:32.952490Z"
    }
   },
   "outputs": [
    {
     "name": "stdout",
     "output_type": "stream",
     "text": [
      "objective value=0.5809523809523824\n"
     ]
    }
   ],
   "source": [
    "w = -2*y[f4[(n, 0, 0, 0)]] - y[f4[n, n, n, n]]\n",
    "\n",
    "obj_val = (2**n-1)*w -y[f4[0, 0, 0, 0]]\n",
    "\n",
    "print(\"objective value=%s\" % obj_val)\n"
   ]
  },
  {
   "cell_type": "markdown",
   "id": "89d3c213",
   "metadata": {},
   "source": [
    "# Maximum violation constraints"
   ]
  },
  {
   "cell_type": "code",
   "execution_count": 28,
   "id": "3575f3fd-42d4-4161-bb7b-def7244ca4a5",
   "metadata": {
    "ExecuteTime": {
     "end_time": "2024-08-19T13:04:32.978839Z",
     "start_time": "2024-08-19T13:04:32.959008Z"
    }
   },
   "outputs": [
    {
     "name": "stdout",
     "output_type": "stream",
     "text": [
      "Zero constraints = 3.5761524456408465e-17\n",
      "Other constraints = 3.3306690738754696e-16\n"
     ]
    }
   ],
   "source": [
    "\n",
    "const = []\n",
    "\n",
    "for i, j, t, p in f4.keys():\n",
    "    if not ((t - p) % 2) == 1 and (i + j - t - p) >= d and not j == 0 and not i==0:\n",
    "        zero = y[f4[i, j, t, p]]\n",
    "        const.append(abs(zero))\n",
    "\n",
    "print(\"Zero constraints = %s\" % max(const))\n",
    "\n",
    "const = []\n",
    "\n",
    "for i in range(d, n + 1):\n",
    "    zero = (2*y[f4[i, 0, 0, 0]] + y[f4[i, i, i, i]]) + w\n",
    "    const.append(abs(zero))\n",
    "\n",
    "print(\"Other constraints = %s\" % max(const))\n"
   ]
  },
  {
   "cell_type": "markdown",
   "id": "320fa465",
   "metadata": {},
   "source": [
    "# Minimum eigenvalue"
   ]
  },
  {
   "cell_type": "code",
   "execution_count": 29,
   "id": "dd98ff90",
   "metadata": {
    "ExecuteTime": {
     "end_time": "2024-08-19T13:04:32.988963Z",
     "start_time": "2024-08-19T13:04:32.981021Z"
    }
   },
   "outputs": [
    {
     "name": "stdout",
     "output_type": "stream",
     "text": [
      "Minimum eigenvalue = 0.013155884803915668\n"
     ]
    }
   ],
   "source": [
    "ref = np.infty\n",
    "for i in range(len(Y)):\n",
    "    min_eig = min(np.linalg.eigvals(Y[i].astype('float')))\n",
    "    if ref >= min_eig:\n",
    "        ref = min_eig\n",
    "\n",
    "print(\"Minimum eigenvalue = %s\" % ref)"
   ]
  }
 ],
 "metadata": {
  "kernelspec": {
   "display_name": "Python 3 (ipykernel)",
   "language": "python",
   "name": "python3"
  },
  "language_info": {
   "codemirror_mode": {
    "name": "ipython",
    "version": 3
   },
   "file_extension": ".py",
   "mimetype": "text/x-python",
   "name": "python",
   "nbconvert_exporter": "python",
   "pygments_lexer": "ipython3",
   "version": "3.12.2"
  }
 },
 "nbformat": 4,
 "nbformat_minor": 5
}
