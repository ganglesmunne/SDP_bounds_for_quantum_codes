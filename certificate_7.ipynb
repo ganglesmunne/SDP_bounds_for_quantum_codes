{
 "cells": [
  {
   "cell_type": "code",
   "execution_count": 1,
   "id": "95bf8c20",
   "metadata": {
    "ExecuteTime": {
     "end_time": "2024-08-16T08:57:29.594248Z",
     "start_time": "2024-08-16T08:57:29.550744Z"
    }
   },
   "outputs": [],
   "source": [
    "import pickle\n",
    "import numpy as np\n",
    "import fun_dual as f"
   ]
  },
  {
   "cell_type": "markdown",
   "id": "b4b72833",
   "metadata": {},
   "source": [
    "# Print solution Y^(a,k)"
   ]
  },
  {
   "cell_type": "code",
   "execution_count": 2,
   "id": "401d646d",
   "metadata": {
    "ExecuteTime": {
     "end_time": "2024-08-16T08:57:30.960306Z",
     "start_time": "2024-08-16T08:57:29.595899Z"
    }
   },
   "outputs": [
    {
     "name": "stdout",
     "output_type": "stream",
     "text": [
      "Y^(0,0)=[[Fraction(124, 1) 0 0 0 Fraction(-9, 1) Fraction(-15, 1)\n",
      "  Fraction(-26, 1) Fraction(-43, 1)]\n",
      " [0 Fraction(115, 1) 0 0 0 0 0 0]\n",
      " [0 0 Fraction(22, 1) 0 0 0 0 0]\n",
      " [0 0 0 Fraction(3, 1) 0 0 0 0]\n",
      " [Fraction(-9, 1) 0 0 0 Fraction(1, 1) Fraction(1, 1) Fraction(2, 1)\n",
      "  Fraction(1, 1)]\n",
      " [Fraction(-15, 1) 0 0 0 Fraction(1, 1) Fraction(3, 1) Fraction(2, 1)\n",
      "  Fraction(2, 1)]\n",
      " [Fraction(-26, 1) 0 0 0 Fraction(2, 1) Fraction(2, 1) Fraction(7, 1)\n",
      "  Fraction(11, 1)]\n",
      " [Fraction(-43, 1) 0 0 0 Fraction(1, 1) Fraction(2, 1) Fraction(11, 1)\n",
      "  Fraction(43, 1)]]\n",
      "\n",
      "Y^(0,1)=[[Fraction(120, 1) 0 0 0 0 0]\n",
      " [0 Fraction(238, 1) 0 0 0 0]\n",
      " [0 0 Fraction(66, 1) 0 0 0]\n",
      " [0 0 0 Fraction(9, 1) Fraction(10, 1) Fraction(-10, 1)]\n",
      " [0 0 0 Fraction(10, 1) Fraction(15, 1) Fraction(3, 1)]\n",
      " [0 0 0 Fraction(-10, 1) Fraction(3, 1) Fraction(92, 1)]]\n",
      "\n",
      "Y^(0,2)=[[Fraction(140, 1) 0 0 0]\n",
      " [0 Fraction(274, 1) 0 0]\n",
      " [0 0 Fraction(91, 1) Fraction(24, 1)]\n",
      " [0 0 Fraction(24, 1) Fraction(330, 1)]]\n",
      "\n",
      "Y^(0,3)=[[Fraction(84, 1) 0]\n",
      " [0 Fraction(12, 1)]]\n",
      "\n",
      "Y^(1,1)=[[Fraction(120, 1) 0 0 0 0 0 0]\n",
      " [0 Fraction(120, 1) 0 0 0 0 0]\n",
      " [0 0 Fraction(63, 1) 0 0 0 0]\n",
      " [0 0 0 Fraction(11, 1) Fraction(4, 1) Fraction(-5, 1) Fraction(5, 1)]\n",
      " [0 0 0 Fraction(4, 1) Fraction(7, 1) Fraction(4, 1) Fraction(-8, 1)]\n",
      " [0 0 0 Fraction(-5, 1) Fraction(4, 1) Fraction(29, 1) Fraction(56, 1)]\n",
      " [0 0 0 Fraction(5, 1) Fraction(-8, 1) Fraction(56, 1) Fraction(269, 1)]]\n",
      "\n",
      "Y^(1,2)=[[Fraction(117, 1) 0 0 0 0]\n",
      " [0 Fraction(291, 1) 0 0 0]\n",
      " [0 0 Fraction(130, 1) Fraction(56, 1) Fraction(285, 1)]\n",
      " [0 0 Fraction(56, 1) Fraction(419, 1) Fraction(325, 1)]\n",
      " [0 0 Fraction(285, 1) Fraction(325, 1) Fraction(831, 1)]]\n",
      "\n",
      "Y^(1,3)=[[Fraction(126, 1) 0 0]\n",
      " [0 Fraction(405, 4) Fraction(207, 1)]\n",
      " [0 Fraction(207, 1) Fraction(470, 1)]]\n",
      "\n",
      "Y^(1,4)=[[Fraction(93, 2)]]\n",
      "\n",
      "Y^(2,2)=[[Fraction(114, 1) 0 0 0 0 0]\n",
      " [0 Fraction(109, 1) 0 0 0 0]\n",
      " [0 0 Fraction(53, 1) Fraction(26, 1) Fraction(85, 1) Fraction(20, 1)]\n",
      " [0 0 Fraction(26, 1) Fraction(108, 1) Fraction(-69, 1) Fraction(123, 1)]\n",
      " [0 0 Fraction(85, 1) Fraction(-69, 1) Fraction(352, 1) Fraction(147, 1)]\n",
      " [0 0 Fraction(20, 1) Fraction(123, 1) Fraction(147, 1) Fraction(937, 1)]]\n",
      "\n",
      "Y^(2,3)=[[Fraction(140, 1) 0 0 0]\n",
      " [0 Fraction(127, 1) Fraction(65, 1) Fraction(125, 3)]\n",
      " [0 Fraction(65, 1) Fraction(57, 1) Fraction(46, 1)]\n",
      " [0 Fraction(125, 3) Fraction(46, 1) Fraction(81, 1)]]\n",
      "\n",
      "Y^(2,4)=[[Fraction(18, 1) Fraction(-29, 1)]\n",
      " [Fraction(-29, 1) Fraction(56, 1)]]\n",
      "\n",
      "Y^(3,3)=[[Fraction(107, 1) 0 0 0 0]\n",
      " [0 Fraction(24, 1) Fraction(-3, 1) Fraction(125, 4) Fraction(70, 1)]\n",
      " [0 Fraction(-3, 1) Fraction(71, 1) Fraction(98, 1) Fraction(13, 1)]\n",
      " [0 Fraction(125, 4) Fraction(98, 1) Fraction(224, 1) Fraction(149, 1)]\n",
      " [0 Fraction(70, 1) Fraction(13, 1) Fraction(149, 1) Fraction(246, 1)]]\n",
      "\n",
      "Y^(3,4)=[[Fraction(99, 1) Fraction(45, 2) Fraction(70, 1)]\n",
      " [Fraction(45, 2) Fraction(263, 4) Fraction(-60, 1)]\n",
      " [Fraction(70, 1) Fraction(-60, 1) Fraction(158, 1)]]\n",
      "\n",
      "Y^(3,5)=[[Fraction(39, 2)]]\n",
      "\n",
      "Y^(4,4)=[[Fraction(106, 1) Fraction(10, 1) Fraction(-290, 3) 0]\n",
      " [Fraction(10, 1) Fraction(16187991, 644740) Fraction(-44, 1)\n",
      "  Fraction(38, 1)]\n",
      " [Fraction(-290, 3) Fraction(-44, 1) Fraction(6623, 36) Fraction(-82, 1)]\n",
      " [0 Fraction(38, 1) Fraction(-82, 1) Fraction(88, 1)]]\n",
      "\n",
      "Y^(4,5)=[[Fraction(25998073, 322370) Fraction(44, 1)]\n",
      " [Fraction(44, 1) Fraction(379, 12)]]\n",
      "\n",
      "Y^(5,5)=[[Fraction(21984965, 392883) Fraction(-78, 5) Fraction(-186, 5)]\n",
      " [Fraction(-78, 5) Fraction(1061, 80) Fraction(93, 5)]\n",
      " [Fraction(-186, 5) Fraction(93, 5) Fraction(34838427, 857647)]]\n",
      "\n",
      "Y^(5,6)=[[Fraction(907, 8)]]\n",
      "\n",
      "Y^(6,6)=[[Fraction(289, 5) Fraction(-548, 5)]\n",
      " [Fraction(-548, 5) Fraction(164534807, 670060)]]\n",
      "\n",
      "Y^(7,7)=[[Fraction(3813979, 522046)]]\n",
      "\n",
      "[ 1.24000000e+02  0.00000000e+00  0.00000000e+00  0.00000000e+00\n",
      " -2.83500000e+03 -4.91036404e+03 -4.91400000e+03 -2.01091099e+03\n",
      "  0.00000000e+00  1.41300000e+04  1.73000000e+03  1.04500000e+03\n",
      "  0.00000000e+00  0.00000000e+00  0.00000000e+00  0.00000000e+00\n",
      "  0.00000000e+00  0.00000000e+00  0.00000000e+00  0.00000000e+00\n",
      "  0.00000000e+00  0.00000000e+00  0.00000000e+00  0.00000000e+00\n",
      "  0.00000000e+00  0.00000000e+00  0.00000000e+00  0.00000000e+00\n",
      "  0.00000000e+00  0.00000000e+00  0.00000000e+00  0.00000000e+00\n",
      "  0.00000000e+00  0.00000000e+00  3.70110000e+04  3.41790000e+04\n",
      "  5.60800000e+03  7.77700000e+03  2.74300000e+03  0.00000000e+00\n",
      "  0.00000000e+00  0.00000000e+00  0.00000000e+00  0.00000000e+00\n",
      "  0.00000000e+00  0.00000000e+00  0.00000000e+00  0.00000000e+00\n",
      "  0.00000000e+00  0.00000000e+00  0.00000000e+00  0.00000000e+00\n",
      "  0.00000000e+00  0.00000000e+00  0.00000000e+00  0.00000000e+00\n",
      "  0.00000000e+00  0.00000000e+00  0.00000000e+00  0.00000000e+00\n",
      "  0.00000000e+00  0.00000000e+00  0.00000000e+00  0.00000000e+00\n",
      "  0.00000000e+00  0.00000000e+00  0.00000000e+00  0.00000000e+00\n",
      "  0.00000000e+00  0.00000000e+00  0.00000000e+00  0.00000000e+00\n",
      "  0.00000000e+00  0.00000000e+00  0.00000000e+00  0.00000000e+00\n",
      " -6.22080000e+04  0.00000000e+00  0.00000000e+00  6.83640000e+04\n",
      "  4.79520000e+04  5.69100000e+03  1.83180000e+04  1.64100000e+04\n",
      "  4.69800000e+03  0.00000000e+00  0.00000000e+00  0.00000000e+00\n",
      "  0.00000000e+00  0.00000000e+00  0.00000000e+00  0.00000000e+00\n",
      "  0.00000000e+00  0.00000000e+00  0.00000000e+00  0.00000000e+00\n",
      "  0.00000000e+00  0.00000000e+00  0.00000000e+00  0.00000000e+00\n",
      "  0.00000000e+00  0.00000000e+00  0.00000000e+00  0.00000000e+00\n",
      "  0.00000000e+00  0.00000000e+00  0.00000000e+00  0.00000000e+00\n",
      "  0.00000000e+00  0.00000000e+00  0.00000000e+00  0.00000000e+00\n",
      "  0.00000000e+00  0.00000000e+00  0.00000000e+00 -2.83500000e+03\n",
      "  0.00000000e+00  0.00000000e+00  0.00000000e+00  0.00000000e+00\n",
      "  0.00000000e+00  0.00000000e+00  0.00000000e+00  0.00000000e+00\n",
      "  0.00000000e+00  0.00000000e+00  0.00000000e+00  0.00000000e+00\n",
      "  0.00000000e+00  0.00000000e+00  0.00000000e+00  0.00000000e+00\n",
      "  0.00000000e+00  0.00000000e+00  0.00000000e+00  3.27240000e+04\n",
      "  0.00000000e+00  0.00000000e+00 -3.42630000e+04  0.00000000e+00\n",
      " -7.13700000e+03  0.00000000e+00  4.91130000e+04  2.55780000e+04\n",
      "  0.00000000e+00  4.95900000e+03  1.45980000e+04  1.07640000e+04\n",
      "  2.88900000e+03 -3.75166564e-12 -2.52533008e+03 -5.68434189e-13\n",
      "  3.30839025e+04 -4.43378667e-12  1.13016315e+04  8.36580540e+03\n",
      " -1.19371180e-12  3.67367976e+03  2.37879858e+04  2.04364675e+04\n",
      "  4.99350248e+03  1.27575000e+05  0.00000000e+00 -3.52350000e+04\n",
      "  0.00000000e+00  0.00000000e+00 -2.83050000e+04  0.00000000e+00\n",
      "  4.19850000e+04  1.30500000e+04  0.00000000e+00  6.85892120e+03\n",
      "  0.00000000e+00  4.67653718e+03  3.19563374e+03 -4.91036404e+03\n",
      "  0.00000000e+00  0.00000000e+00  0.00000000e+00  0.00000000e+00\n",
      "  0.00000000e+00  0.00000000e+00  0.00000000e+00  0.00000000e+00\n",
      "  0.00000000e+00  0.00000000e+00  0.00000000e+00  0.00000000e+00\n",
      "  0.00000000e+00  0.00000000e+00  0.00000000e+00  0.00000000e+00\n",
      "  0.00000000e+00  0.00000000e+00 -3.75166564e-12 -2.52533008e+03\n",
      " -5.68434189e-13  3.30839025e+04 -4.43378667e-12  1.13016315e+04\n",
      "  8.36580540e+03 -1.19371180e-12  3.67367976e+03  2.37879858e+04\n",
      "  2.04364675e+04  4.99350248e+03  2.39274000e+05  0.00000000e+00\n",
      " -7.88940000e+04  0.00000000e+00 -2.84217094e-14 -7.46370000e+04\n",
      "  0.00000000e+00  8.68590000e+04  3.51630000e+04 -1.26360180e+04\n",
      "  4.03588274e-12  4.24891798e+04  5.34056404e+04  2.56502697e+04\n",
      "  4.81492808e+03  1.81898940e-12  1.37677255e+05 -6.36646291e-12\n",
      " -4.54559414e+04 -1.01480857e+04 -5.90989592e+04  3.46744855e-12\n",
      "  5.05689554e+04  3.51363827e+04  1.31878348e+04  1.87373256e+03\n",
      "  3.91716000e+04  0.00000000e+00 -2.60820000e+04  0.00000000e+00\n",
      "  1.36080000e+04  3.92040000e+03 -4.91400000e+03  0.00000000e+00\n",
      "  0.00000000e+00  0.00000000e+00  0.00000000e+00  0.00000000e+00\n",
      "  0.00000000e+00  0.00000000e+00  0.00000000e+00  0.00000000e+00\n",
      "  0.00000000e+00  0.00000000e+00  0.00000000e+00  0.00000000e+00\n",
      "  0.00000000e+00  0.00000000e+00  1.27575000e+05  0.00000000e+00\n",
      " -3.52350000e+04  0.00000000e+00  0.00000000e+00 -2.83050000e+04\n",
      "  0.00000000e+00  4.19850000e+04  1.30500000e+04  1.81898940e-12\n",
      "  1.37677255e+05 -6.36646291e-12 -4.54559414e+04 -1.01480857e+04\n",
      " -5.90989592e+04  3.46744855e-12  5.05689554e+04  3.51363827e+04\n",
      "  1.31878348e+04  1.87373256e+03  1.60870050e+05  0.00000000e+00\n",
      " -1.38604500e+05  0.00000000e+00  9.28462500e+04  3.21462000e+04\n",
      "  2.70006240e-13 -1.46097000e+04  0.00000000e+00  3.90150000e+04\n",
      "  4.93830000e+04  2.41785000e+04  4.82220000e+03 -2.41584530e-12\n",
      "  1.68916523e+04  6.82121026e-12  2.58144852e+04  3.35307716e+04\n",
      "  1.85190872e+04  2.46921163e+03 -2.01091099e+03  0.00000000e+00\n",
      "  0.00000000e+00  0.00000000e+00  0.00000000e+00  0.00000000e+00\n",
      "  0.00000000e+00  0.00000000e+00  0.00000000e+00  0.00000000e+00\n",
      "  0.00000000e+00  6.85892120e+03  0.00000000e+00  4.67653718e+03\n",
      "  3.19563374e+03  3.91716000e+04  0.00000000e+00 -2.60820000e+04\n",
      "  0.00000000e+00  1.36080000e+04  3.92040000e+03 -2.41584530e-12\n",
      "  1.68916523e+04  6.82121026e-12  2.58144852e+04  3.35307716e+04\n",
      "  1.85190872e+04  2.46921163e+03  1.53613151e+04  1.90354399e-11\n",
      " -1.76732058e+04  4.37978542e-11  4.60300289e+04  3.70573538e+04\n",
      "  1.13890289e+04  1.87647912e+03]\n"
     ]
    }
   ],
   "source": [
    "n,d=7,4\n",
    "\n",
    "with open(\"inf_cert_7\", 'rb') as inf_cert:\n",
    "    Y=pickle.load(inf_cert)\n",
    "\n",
    "y=f.yijtp_fun(Y,n)\n",
    "\n",
    "f4,_=f.f4_fun(n)\n",
    "\n",
    "f2M,_=f.f2M_fun(n)\n",
    "\n",
    "for a in range(n+1):\n",
    "    for k in range(a,int((n+a)/2)+1):\n",
    "        \n",
    "        print(\"Y^(%s,%s)=%s\\n\" % (a,k,Y[f2M[a,k]]))\n",
    "A=[y[f4[a, b, c, q]] for a,b,c,q in f4.keys()]\n",
    "A=np.array(A)\n",
    "print(A)\n"
   ]
  },
  {
   "cell_type": "markdown",
   "id": "2aea2d8c",
   "metadata": {},
   "source": [
    "# Objective value"
   ]
  },
  {
   "cell_type": "code",
   "execution_count": 3,
   "id": "b4a5af13-6040-44ed-ab61-2d3f20def8ad",
   "metadata": {
    "ExecuteTime": {
     "end_time": "2024-08-16T08:57:30.976624Z",
     "start_time": "2024-08-16T08:57:30.962896Z"
    }
   },
   "outputs": [
    {
     "name": "stdout",
     "output_type": "stream",
     "text": [
      "obj_val=0.5809523809523824\n"
     ]
    }
   ],
   "source": [
    "w = -(2*y[f4[(n, 0, 0, 0)]] + y[f4[n, n, n, n]])/f.gamma(n, 0, 0, 0, n)\n",
    "\n",
    "obj_val = (2**n-1)*w -y[f4[0, 0, 0, 0]]\n",
    "\n",
    "print(\"obj_val=%s\" % obj_val)\n"
   ]
  },
  {
   "cell_type": "markdown",
   "id": "89d3c213",
   "metadata": {},
   "source": [
    "# Lovasz constraints"
   ]
  },
  {
   "cell_type": "code",
   "execution_count": 4,
   "id": "3575f3fd-42d4-4161-bb7b-def7244ca4a5",
   "metadata": {
    "ExecuteTime": {
     "end_time": "2024-08-16T08:57:30.990186Z",
     "start_time": "2024-08-16T08:57:30.980048Z"
    }
   },
   "outputs": [
    {
     "name": "stdout",
     "output_type": "stream",
     "text": [
      "Zero constraints = 3.5761524456408465e-17\n",
      "Other constraints = 2.220446049250313e-16\n"
     ]
    }
   ],
   "source": [
    "\n",
    "const = []\n",
    "\n",
    "for i, j, t, p in f4.keys():\n",
    "    if not ((t - p) % 2) == 1 and (i + j - t - p) >= d and not j == 0 and not i==0:\n",
    "        zero = y[f4[i, j, t, p]]/f.gamma(i, j, t, p, n)\n",
    "        const.append(abs(zero))\n",
    "\n",
    "print(\"Zero constraints = %s\" % max(const))\n",
    "\n",
    "const = []\n",
    "\n",
    "for i in range(d, n + 1):\n",
    "    zero = (2*y[f4[i, 0, 0, 0]] + y[f4[i, i, i, i]])/f.gamma(i, 0, 0, 0, n)+ w\n",
    "    const.append(abs(zero))\n",
    "\n",
    "print(\"Other constraints = %s\" % max(const))\n"
   ]
  },
  {
   "cell_type": "code",
   "execution_count": 5,
   "id": "b24985be",
   "metadata": {
    "ExecuteTime": {
     "end_time": "2024-08-16T08:57:31.001914Z",
     "start_time": "2024-08-16T08:57:30.991857Z"
    }
   },
   "outputs": [
    {
     "name": "stdout",
     "output_type": "stream",
     "text": [
      "Zero constraints = 4.3797854232252575e-11\n",
      "Other constraints = 9.094947017729282e-13\n"
     ]
    }
   ],
   "source": [
    "\n",
    "const = []\n",
    "\n",
    "for i, j, t, p in f4.keys():\n",
    "    if not ((t - p) % 2) == 1 and (i + j - t - p) >= d and not j == 0 and not i==0:\n",
    "        zero = y[f4[i, j, t, p]]\n",
    "        const.append(abs(zero))\n",
    "\n",
    "print(\"Zero constraints = %s\" % max(const))\n",
    "\n",
    "const = []\n",
    "\n",
    "for i in range(d, n + 1):\n",
    "    zero = 2*y[f4[i, 0, 0, 0]] + y[f4[i, i, i, i]]+ w*f.gamma(i, 0, 0, 0, n)\n",
    "    const.append(abs(zero))\n",
    "\n",
    "print(\"Other constraints = %s\" % max(const))\n"
   ]
  },
  {
   "cell_type": "markdown",
   "id": "320fa465",
   "metadata": {},
   "source": [
    "# Minimal eigenvalue"
   ]
  },
  {
   "cell_type": "code",
   "execution_count": 6,
   "id": "dd98ff90",
   "metadata": {
    "ExecuteTime": {
     "end_time": "2024-08-16T08:57:31.010193Z",
     "start_time": "2024-08-16T08:57:31.003634Z"
    }
   },
   "outputs": [
    {
     "name": "stdout",
     "output_type": "stream",
     "text": [
      "Min eigenvalue = 0.013155884803915668\n"
     ]
    }
   ],
   "source": [
    "ref = np.infty\n",
    "for i in range(len(Y)):\n",
    "    min_eig = min(np.linalg.eigvals(Y[i].astype('float')))\n",
    "    if ref >= min_eig:\n",
    "        ref = min_eig\n",
    "\n",
    "print(\"Min eigenvalue = %s\" % ref)"
   ]
  }
 ],
 "metadata": {
  "kernelspec": {
   "display_name": "Python 3 (ipykernel)",
   "language": "python",
   "name": "python3"
  },
  "language_info": {
   "codemirror_mode": {
    "name": "ipython",
    "version": 3
   },
   "file_extension": ".py",
   "mimetype": "text/x-python",
   "name": "python",
   "nbconvert_exporter": "python",
   "pygments_lexer": "ipython3",
   "version": "3.12.2"
  }
 },
 "nbformat": 4,
 "nbformat_minor": 5
}
