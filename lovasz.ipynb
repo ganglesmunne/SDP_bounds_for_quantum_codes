{
 "cells": [
  {
   "cell_type": "code",
   "execution_count": 1,
   "id": "initial_id",
   "metadata": {
    "collapsed": true,
    "ExecuteTime": {
     "end_time": "2024-07-04T09:52:09.975470Z",
     "start_time": "2024-07-04T09:52:09.691200Z"
    }
   },
   "outputs": [],
   "source": [
    "import picos as pic\n",
    "import fun_dual as f\n",
    "from itertools import product\n",
    "from qiskit.quantum_info import pauli_basis,Pauli"
   ]
  },
  {
   "cell_type": "markdown",
   "source": [
    "# Lovasz SDP"
   ],
   "metadata": {
    "collapsed": false
   },
   "id": "e94ed4d1590f563a"
  },
  {
   "cell_type": "code",
   "outputs": [],
   "source": [
    "n,d=4,3 # AME(4,3)\n",
    "\n",
    "paulis = pauli_basis(n, True)\n",
    "\n",
    "paulis=[p for p in paulis if not 0<f.wt(str(p),n)<d]  # remove all the paulis with less weight than d\n",
    "\n",
    "E= {ind:p.to_label() for ind, p in enumerate(paulis)}\n",
    "\n",
    "N=len(E)\n",
    "all=range(N)\n",
    "\n",
    "sdp = pic.Problem()\n",
    "X = pic.SymmetricVariable(\"X\", N) #variable\n",
    "\n",
    "obj_fun=pic.sum([X[i,i] for i in range(N)])\n",
    "sdp.set_objective('max', obj_fun) # objective function \n",
    "\n",
    "sdp.add_list_of_constraints(X[i,i]==X[i,0] for i in range(1,N)) \n",
    "sdp.add_constraint(X[0,0]==1) # lovasz constraints\n",
    "\n",
    "sdp.add_list_of_constraints(X[i,j]==0 for i,j in product(all,all) if Pauli(E[i]).anticommutes(Pauli(E[j]))==True)\n",
    "# sdp.add_list_of_constraints(X[i,j]==0 for i,j in product(all,all) if 1<f.wt(E[i],n)<d or \n",
    "#                             1<f.wt(E[j],n)<d or \n",
    "#                             1<f.wt(str(Pauli(E[i]).dot(Pauli(E[j]))),n)<d) #lovasz zeros\n",
    "\n",
    "# sdp.add_list_of_constraints(X[i,j]==0 for i,j in product(all,all) if \n",
    "#                             1<f.wt(str(Pauli(E[i]).dot(Pauli(E[j]))),n)<d) #lovasz zeros\n",
    "\n",
    "sdp.add_constraint(X>>0) \n",
    "\n",
    "sol = sdp.solve(solver='mosek', primals=True)"
   ],
   "metadata": {
    "collapsed": false,
    "ExecuteTime": {
     "end_time": "2024-07-04T09:54:08.138719Z",
     "start_time": "2024-07-04T09:52:09.976502Z"
    }
   },
   "id": "dbf899510a13bf13",
   "execution_count": 2
  },
  {
   "cell_type": "code",
   "outputs": [
    {
     "name": "stdout",
     "output_type": "stream",
     "text": [
      "feasible\n",
      "14.415100286476706 16\n"
     ]
    }
   ],
   "source": [
    "print(sol.problemStatus)\n",
    "print(obj_fun.value,2**n) #comparison between maximum and upperbound "
   ],
   "metadata": {
    "collapsed": false,
    "ExecuteTime": {
     "end_time": "2024-07-04T09:54:08.145463Z",
     "start_time": "2024-07-04T09:54:08.140598Z"
    }
   },
   "id": "11900c762844d408",
   "execution_count": 3
  }
 ],
 "metadata": {
  "kernelspec": {
   "display_name": "Python 3",
   "language": "python",
   "name": "python3"
  },
  "language_info": {
   "codemirror_mode": {
    "name": "ipython",
    "version": 2
   },
   "file_extension": ".py",
   "mimetype": "text/x-python",
   "name": "python",
   "nbconvert_exporter": "python",
   "pygments_lexer": "ipython2",
   "version": "2.7.6"
  }
 },
 "nbformat": 4,
 "nbformat_minor": 5
}
