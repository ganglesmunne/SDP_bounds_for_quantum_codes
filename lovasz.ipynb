{
 "cells": [
  {
   "cell_type": "code",
   "execution_count": null,
   "id": "initial_id",
   "metadata": {
    "collapsed": true,
    "is_executing": true
   },
   "outputs": [],
   "source": [
    "import picos as pic\n",
    "import fun_dual as f\n",
    "from itertools import product\n",
    "from qiskit.quantum_info import pauli_basis,Pauli"
   ]
  },
  {
   "cell_type": "markdown",
   "source": [
    "# Quantum Lovász number"
   ],
   "metadata": {
    "collapsed": false
   },
   "id": "e94ed4d1590f563a"
  },
  {
   "cell_type": "code",
   "outputs": [
    {
     "ename": "NameError",
     "evalue": "name 'pauli_basis' is not defined",
     "output_type": "error",
     "traceback": [
      "\u001B[0;31m---------------------------------------------------------------------------\u001B[0m",
      "\u001B[0;31mNameError\u001B[0m                                 Traceback (most recent call last)",
      "Cell \u001B[0;32mIn[3], line 3\u001B[0m\n\u001B[1;32m      1\u001B[0m n,d\u001B[38;5;241m=\u001B[39m\u001B[38;5;241m4\u001B[39m,\u001B[38;5;241m3\u001B[39m \u001B[38;5;66;03m# AME(4,3)\u001B[39;00m\n\u001B[0;32m----> 3\u001B[0m paulis \u001B[38;5;241m=\u001B[39m \u001B[43mpauli_basis\u001B[49m(n, \u001B[38;5;28;01mTrue\u001B[39;00m)\n\u001B[1;32m      5\u001B[0m paulis\u001B[38;5;241m=\u001B[39m[p \u001B[38;5;28;01mfor\u001B[39;00m p \u001B[38;5;129;01min\u001B[39;00m paulis \u001B[38;5;28;01mif\u001B[39;00m \u001B[38;5;129;01mnot\u001B[39;00m \u001B[38;5;241m0\u001B[39m\u001B[38;5;241m<\u001B[39mf\u001B[38;5;241m.\u001B[39mwt(\u001B[38;5;28mstr\u001B[39m(p),n)\u001B[38;5;241m<\u001B[39md]  \u001B[38;5;66;03m# remove all the paulis with less weight than d\u001B[39;00m\n\u001B[1;32m      7\u001B[0m E\u001B[38;5;241m=\u001B[39m {ind:p\u001B[38;5;241m.\u001B[39mto_label() \u001B[38;5;28;01mfor\u001B[39;00m ind, p \u001B[38;5;129;01min\u001B[39;00m \u001B[38;5;28menumerate\u001B[39m(paulis)}\n",
      "\u001B[0;31mNameError\u001B[0m: name 'pauli_basis' is not defined"
     ]
    }
   ],
   "source": [
    " # Qubit quantum code ((4,1,3))\n",
    "\n",
    "n,d=4,3\n",
    "\n",
    "# Define a set E with all the Pauli strings\n",
    "\n",
    "paulis = pauli_basis(n, True)\n",
    "\n",
    "E= {ind:p.to_label() for ind, p in enumerate(paulis)}\n",
    "\n",
    "N=len(E)\n",
    "all=range(N)\n",
    "\n",
    "# Define a symmetric variable X\n",
    "\n",
    "sdp = pic.Problem()\n",
    "X = pic.SymmetricVariable(\"X\", N) \n",
    "\n",
    "# Objective function of the Lovász numeber\n",
    "\n",
    "obj_fun=pic.sum([X[i,i] for i in range(1,N)])\n",
    "sdp.set_objective('max', obj_fun) # objective function \n",
    "\n",
    "# # Lovász constraints\n",
    "\n",
    "sdp.add_list_of_constraints(X[i,i]==X[i,0] for i in range(1,N)) \n",
    "sdp.add_constraint(X[0,0]==1) \n",
    "\n",
    "sdp.add_list_of_constraints(X[i,j]==0 for i,j in product(all,all) \n",
    "                            if Pauli(E[i]).anticommutes(Pauli(E[j]))==True or 0<f.wt(str(Pauli(E[i]).dot(Pauli(E[j]))),n)<d)\n",
    "\n",
    "sdp.add_constraint(X>>0) \n",
    "\n",
    "sol = sdp.solve(solver='mosek', primals=True)"
   ],
   "metadata": {
    "collapsed": false,
    "ExecuteTime": {
     "end_time": "2024-08-16T09:25:26.078312Z",
     "start_time": "2024-08-16T09:25:24.513667Z"
    }
   },
   "id": "dbf899510a13bf13",
   "execution_count": 3
  },
  {
   "cell_type": "code",
   "outputs": [],
   "source": [
    "print(sol.problemStatus)\n",
    "print(obj_fun.value,2**n-1) #comparison between maximum and upperbound "
   ],
   "metadata": {
    "collapsed": false,
    "ExecuteTime": {
     "end_time": "2024-08-16T09:25:26.079187Z",
     "start_time": "2024-08-16T09:25:26.079125Z"
    }
   },
   "id": "11900c762844d408",
   "execution_count": null
  }
 ],
 "metadata": {
  "kernelspec": {
   "display_name": "Python 3",
   "language": "python",
   "name": "python3"
  },
  "language_info": {
   "codemirror_mode": {
    "name": "ipython",
    "version": 2
   },
   "file_extension": ".py",
   "mimetype": "text/x-python",
   "name": "python",
   "nbconvert_exporter": "python",
   "pygments_lexer": "ipython2",
   "version": "2.7.6"
  }
 },
 "nbformat": 4,
 "nbformat_minor": 5
}
