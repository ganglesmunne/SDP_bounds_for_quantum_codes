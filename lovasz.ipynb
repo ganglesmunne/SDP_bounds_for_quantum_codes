{
 "cells": [
  {
   "cell_type": "code",
   "execution_count": 1,
   "id": "initial_id",
   "metadata": {
    "collapsed": true,
    "ExecuteTime": {
     "end_time": "2024-08-19T11:47:27.187659Z",
     "start_time": "2024-08-19T11:47:22.864839Z"
    }
   },
   "outputs": [],
   "source": [
    "import picos as pic\n",
    "import fun_dual as f\n",
    "from itertools import product\n",
    "from qiskit.quantum_info import pauli_basis,Pauli"
   ]
  },
  {
   "cell_type": "markdown",
   "source": [
    "# Quantum Lovász number for qubit quantum code ((4,1,3))"
   ],
   "metadata": {
    "collapsed": false
   },
   "id": "e94ed4d1590f563a"
  },
  {
   "cell_type": "code",
   "outputs": [],
   "source": [
    "\"\"\"\n",
    "Quantum Lovász number for self-dual codes defined in Corollary 9\n",
    "\"\"\"\n",
    "\n",
    "n,d=4,3\n",
    "\n",
    "# define a set E with all the Pauli strings\n",
    "\n",
    "paulis = pauli_basis(n, True)\n",
    "\n",
    "E= {ind:p.to_label() for ind, p in enumerate(paulis)}\n",
    "\n",
    "N=len(E)\n",
    "all=range(N)\n",
    "\n",
    "# define a symmetric variable X\n",
    "\n",
    "sdp = pic.Problem()\n",
    "X = pic.SymmetricVariable(\"X\", N) \n",
    "\n",
    "# objective function\n",
    "\n",
    "obj_fun=pic.sum([X[i,i] for i in range(1,N)])\n",
    "sdp.set_objective('max', obj_fun) \n",
    "\n",
    "# Lovász constraints\n",
    "\n",
    "sdp.add_list_of_constraints(X[i,i]==X[i,0] for i in range(1,N)) \n",
    "sdp.add_constraint(X[0,0]==1) \n",
    "\n",
    "sdp.add_list_of_constraints(X[i,j]==0 for i,j in product(all,all) \n",
    "                            if Pauli(E[i]).anticommutes(Pauli(E[j]))==True or \n",
    "                            0<f.wt(str(Pauli(E[i]).dot(Pauli(E[j]))),n)<d or 0<f.wt(str(Pauli(E[i])),n)<d or 0<f.wt(str(Pauli(E[j])),n)<d )\n",
    "\n",
    "sdp.add_constraint(X>>0) \n",
    "\n",
    "# solve SDP \n",
    "\n",
    "sol = sdp.solve(solver='mosek', primals=True)"
   ],
   "metadata": {
    "collapsed": false,
    "ExecuteTime": {
     "end_time": "2024-08-19T11:59:32.682206Z",
     "start_time": "2024-08-19T11:47:27.188953Z"
    }
   },
   "id": "dbf899510a13bf13",
   "execution_count": 2
  },
  {
   "cell_type": "code",
   "outputs": [
    {
     "name": "stdout",
     "output_type": "stream",
     "text": [
      "feasible\n",
      "8.000000043112287 16\n"
     ]
    }
   ],
   "source": [
    "# solution status and comparison between the Lovász number and its lower bound [see Corollary 9]\n",
    "\n",
    "print(sol.problemStatus)\n",
    "print(obj_fun.value +1 ,2**n) "
   ],
   "metadata": {
    "collapsed": false,
    "ExecuteTime": {
     "end_time": "2024-08-19T11:59:32.793976Z",
     "start_time": "2024-08-19T11:59:32.704900Z"
    }
   },
   "id": "11900c762844d408",
   "execution_count": 3
  }
 ],
 "metadata": {
  "kernelspec": {
   "display_name": "Python 3",
   "language": "python",
   "name": "python3"
  },
  "language_info": {
   "codemirror_mode": {
    "name": "ipython",
    "version": 2
   },
   "file_extension": ".py",
   "mimetype": "text/x-python",
   "name": "python",
   "nbconvert_exporter": "python",
   "pygments_lexer": "ipython2",
   "version": "2.7.6"
  }
 },
 "nbformat": 4,
 "nbformat_minor": 5
}
