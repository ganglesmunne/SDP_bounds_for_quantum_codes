{
 "cells": [
  {
   "cell_type": "code",
   "execution_count": 13,
   "id": "f6c32751-edb6-4767-9a28-e74dba1d9b6b",
   "metadata": {
    "ExecuteTime": {
     "end_time": "2024-08-17T18:12:19.978613Z",
     "start_time": "2024-08-17T18:12:19.971900Z"
    }
   },
   "outputs": [],
   "source": [
    "import numpy as np\n",
    "import fun_dual as f"
   ]
  },
  {
   "cell_type": "markdown",
   "source": [
    "# Check Grassl table dist=0 -> feasible, dist=1 -> unbounded"
   ],
   "metadata": {
    "collapsed": false
   },
   "id": "d6ced88d950b5da6"
  },
  {
   "cell_type": "code",
   "execution_count": 14,
   "id": "a8c47c20-ceb3-4c91-a72c-20aa997bf143",
   "metadata": {
    "ExecuteTime": {
     "end_time": "2024-08-17T18:12:20.007176Z",
     "start_time": "2024-08-17T18:12:19.994972Z"
    }
   },
   "outputs": [],
   "source": [
    "def qubit_table(n_min,n_max,dist=0):\n",
    "\n",
    "    from qubit_upper_bounds import fun_upper_qubit\n",
    "\n",
    "    L_upper_qubit=fun_upper_qubit()\n",
    "\n",
    "    for n in range(n_min, n_max + 1):\n",
    "        \n",
    "        d = L_upper_qubit[n - 1][0]+dist\n",
    "\n",
    "        sol, Y, w, f4, obj= f.SDPdual_lovasz(n, d, sol_primal=False)\n",
    "        \n",
    "        print(\"[%s,%s,%s]=%s\" % (n, 1, d, sol))\n",
    "\n",
    "    print(\"Done\")"
   ]
  },
  {
   "cell_type": "code",
   "execution_count": 15,
   "id": "c7152b1d-5287-45a0-9ae5-ca0c05cc3b6c",
   "metadata": {
    "ExecuteTime": {
     "end_time": "2024-08-17T18:12:20.043426Z",
     "start_time": "2024-08-17T18:12:20.038653Z"
    }
   },
   "outputs": [],
   "source": [
    "#qubit_table(n_min=1,n_max=10,dist=0)"
   ]
  },
  {
   "cell_type": "markdown",
   "source": [
    "# Pos obj function code ((7,1,4))"
   ],
   "metadata": {
    "collapsed": false
   },
   "id": "667bba2c601847de"
  },
  {
   "cell_type": "code",
   "execution_count": 16,
   "id": "b081eaf7-23cb-41ea-b4c6-c5be0e33a346",
   "metadata": {
    "ExecuteTime": {
     "end_time": "2024-08-17T18:12:24.107272Z",
     "start_time": "2024-08-17T18:12:20.046303Z"
    }
   },
   "outputs": [
    {
     "name": "stdout",
     "output_type": "stream",
     "text": [
      "feasible 0.9999999999998579\n"
     ]
    }
   ],
   "source": [
    "n=7\n",
    "d=4\n",
    "\n",
    "sol, Y, w, f4, obj= f.SDPdual_lovasz(n, d, sol_primal=True, upperbound=1, sdptol=1e-11)\n",
    "print(sol,obj)"
   ]
  }
 ],
 "metadata": {
  "kernelspec": {
   "display_name": "Python 3 (ipykernel)",
   "language": "python",
   "name": "python3"
  },
  "language_info": {
   "codemirror_mode": {
    "name": "ipython",
    "version": 3
   },
   "file_extension": ".py",
   "mimetype": "text/x-python",
   "name": "python",
   "nbconvert_exporter": "python",
   "pygments_lexer": "ipython3",
   "version": "3.12.2"
  }
 },
 "nbformat": 4,
 "nbformat_minor": 5
}
