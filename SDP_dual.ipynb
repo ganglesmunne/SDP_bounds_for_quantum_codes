{
 "cells": [
  {
   "cell_type": "code",
   "execution_count": 1,
   "id": "f6c32751-edb6-4767-9a28-e74dba1d9b6b",
   "metadata": {
    "ExecuteTime": {
     "end_time": "2024-08-19T13:08:15.799407Z",
     "start_time": "2024-08-19T13:08:15.424838Z"
    }
   },
   "outputs": [],
   "source": [
    "import fun_dual as f"
   ]
  },
  {
   "cell_type": "markdown",
   "source": [
    "# Solution of the SDP from Eq. (148) with positive objective function for ((7,1,4))"
   ],
   "metadata": {
    "collapsed": false
   },
   "id": "2364a2ac94f00c0c"
  },
  {
   "cell_type": "code",
   "outputs": [
    {
     "name": "stdout",
     "output_type": "stream",
     "text": [
      "feasible 0.9999999999999147\n"
     ]
    }
   ],
   "source": [
    "n,d=7,4\n",
    "\n",
    "sol, Y, w, obj= f.SDPdual_lovasz(n, d, sol_primal=True, upperbound=1, sdptol=1e-11)\n",
    "print(sol,obj)"
   ],
   "metadata": {
    "collapsed": false,
    "ExecuteTime": {
     "end_time": "2024-08-19T13:08:37.686068Z",
     "start_time": "2024-08-19T13:08:15.801187Z"
    }
   },
   "id": "17dbda0d5126ca84",
   "execution_count": 2
  },
  {
   "cell_type": "markdown",
   "source": [
    "# Solution of the SDP from Eq. (150) with positive objective function for ((8,9,3))"
   ],
   "metadata": {
    "collapsed": false
   },
   "id": "667bba2c601847de"
  },
  {
   "cell_type": "code",
   "execution_count": 3,
   "id": "b081eaf7-23cb-41ea-b4c6-c5be0e33a346",
   "metadata": {
    "ExecuteTime": {
     "end_time": "2024-08-19T13:08:46.761835Z",
     "start_time": "2024-08-19T13:08:37.687563Z"
    }
   },
   "outputs": [
    {
     "name": "stdout",
     "output_type": "stream",
     "text": [
      "feasible 0.9999999999998863\n"
     ]
    }
   ],
   "source": [
    "n,K,d=8,9,3\n",
    "\n",
    "sol, Y, C, Q, obj= f.SDPdual(n, K, d, sol_primal=True, upperbound=1, sdptol=1e-10)\n",
    "print(sol,obj)"
   ]
  },
  {
   "cell_type": "markdown",
   "source": [
    "# Solution of the SDP from Eq. (150) with positive objective function for ((10,5,4))"
   ],
   "metadata": {
    "collapsed": false
   },
   "id": "7dd3052d5f0ce25f"
  },
  {
   "cell_type": "code",
   "execution_count": 4,
   "id": "5de98823-dcf7-4f50-93c4-9f84d40f9fd8",
   "metadata": {
    "ExecuteTime": {
     "end_time": "2024-08-19T13:09:20.319074Z",
     "start_time": "2024-08-19T13:08:46.763383Z"
    }
   },
   "outputs": [
    {
     "name": "stdout",
     "output_type": "stream",
     "text": [
      "feasible 1.000000000001819\n"
     ]
    }
   ],
   "source": [
    "n,K,d=10,5,4\n",
    "\n",
    "sol, Y, C, Q, obj= f.SDPdual(n, K, d, sol_primal=True, upperbound=1, sdptol=1e-10)\n",
    "print(sol,obj)"
   ]
  }
 ],
 "metadata": {
  "kernelspec": {
   "display_name": "Python 3 (ipykernel)",
   "language": "python",
   "name": "python3"
  },
  "language_info": {
   "codemirror_mode": {
    "name": "ipython",
    "version": 3
   },
   "file_extension": ".py",
   "mimetype": "text/x-python",
   "name": "python",
   "nbconvert_exporter": "python",
   "pygments_lexer": "ipython3",
   "version": "3.12.2"
  }
 },
 "nbformat": 4,
 "nbformat_minor": 5
}
