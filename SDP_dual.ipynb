{
 "cells": [
  {
   "cell_type": "code",
   "execution_count": 2,
   "id": "f6c32751-edb6-4767-9a28-e74dba1d9b6b",
   "metadata": {
    "ExecuteTime": {
     "end_time": "2024-08-17T07:59:29.180772Z",
     "start_time": "2024-08-17T07:59:28.694683Z"
    }
   },
   "outputs": [],
   "source": [
    "import numpy as np\n",
    "import fun_dual as f"
   ]
  },
  {
   "cell_type": "markdown",
   "source": [
    "# Check Grassl table dist=0 -> feasible, dist=1 -> unbounded"
   ],
   "metadata": {
    "collapsed": false
   },
   "id": "d6ced88d950b5da6"
  },
  {
   "cell_type": "code",
   "execution_count": 3,
   "id": "a8c47c20-ceb3-4c91-a72c-20aa997bf143",
   "metadata": {
    "ExecuteTime": {
     "end_time": "2024-08-17T07:59:29.189653Z",
     "start_time": "2024-08-17T07:59:29.182894Z"
    }
   },
   "outputs": [],
   "source": [
    "def qubit_table(n_min,n_max,dist=0):\n",
    "\n",
    "    from qubit_upper_bounds import fun_upper_qubit\n",
    "\n",
    "    L_upper_qubit=fun_upper_qubit()\n",
    "\n",
    "    for n in range(n_min, n_max + 1):\n",
    "        for k in range(0,  n + 1):\n",
    "            d = L_upper_qubit[n - 1][k]+dist\n",
    "\n",
    "            sol, Y, C, Q, f4, obj= f.SDPdual(n, 2**k, d,sol_primal=False, sol_dual=False)\n",
    "            \n",
    "            print(\"[%s,%s,%s]=%s\" % (n, 2 ** k, d, sol))\n",
    "\n",
    "    print(\"Done\")"
   ]
  },
  {
   "cell_type": "code",
   "execution_count": 4,
   "id": "c7152b1d-5287-45a0-9ae5-ca0c05cc3b6c",
   "metadata": {
    "ExecuteTime": {
     "end_time": "2024-08-17T07:59:29.198715Z",
     "start_time": "2024-08-17T07:59:29.191456Z"
    }
   },
   "outputs": [],
   "source": [
    "#qubit_table(n_min=1,n_max=10,dist=1)"
   ]
  },
  {
   "cell_type": "markdown",
   "source": [
    "# Pos obj function code ((8,9,3))"
   ],
   "metadata": {
    "collapsed": false
   },
   "id": "667bba2c601847de"
  },
  {
   "cell_type": "code",
   "execution_count": 5,
   "id": "b081eaf7-23cb-41ea-b4c6-c5be0e33a346",
   "metadata": {
    "ExecuteTime": {
     "end_time": "2024-08-17T07:59:38.302844Z",
     "start_time": "2024-08-17T07:59:29.201129Z"
    }
   },
   "outputs": [
    {
     "name": "stdout",
     "output_type": "stream",
     "text": [
      "feasible 0.9999999999921556\n"
     ]
    }
   ],
   "source": [
    "n=8 \n",
    "K=9\n",
    "d=3\n",
    "\n",
    "sol, Y, C, Q, f4, obj= f.SDPdual(n, K, d,sol_primal=True, sol_dual=True,upperbound=1)\n",
    "print(sol,obj)"
   ]
  },
  {
   "cell_type": "markdown",
   "source": [
    "# Pos obj function code ((10,5,4))"
   ],
   "metadata": {
    "collapsed": false
   },
   "id": "7dd3052d5f0ce25f"
  },
  {
   "cell_type": "code",
   "execution_count": 6,
   "id": "5de98823-dcf7-4f50-93c4-9f84d40f9fd8",
   "metadata": {
    "ExecuteTime": {
     "end_time": "2024-08-17T08:00:06.255625Z",
     "start_time": "2024-08-17T07:59:38.304342Z"
    }
   },
   "outputs": [
    {
     "name": "stdout",
     "output_type": "stream",
     "text": [
      "feasible 0.999999999998181\n"
     ]
    }
   ],
   "source": [
    "n=10\n",
    "K=5\n",
    "d=4\n",
    "\n",
    "sol, Y, C, Q, f4, obj= f.SDPdual(n, K, d,sol_primal=True, sol_dual=True,upperbound=1)\n",
    "print(sol,obj)"
   ]
  }
 ],
 "metadata": {
  "kernelspec": {
   "display_name": "Python 3 (ipykernel)",
   "language": "python",
   "name": "python3"
  },
  "language_info": {
   "codemirror_mode": {
    "name": "ipython",
    "version": 3
   },
   "file_extension": ".py",
   "mimetype": "text/x-python",
   "name": "python",
   "nbconvert_exporter": "python",
   "pygments_lexer": "ipython3",
   "version": "3.12.2"
  }
 },
 "nbformat": 4,
 "nbformat_minor": 5
}
